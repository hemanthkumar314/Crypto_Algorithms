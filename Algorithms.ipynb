{
 "cells": [
  {
   "cell_type": "markdown",
   "id": "da87c37e",
   "metadata": {},
   "source": [
    "# Cryptography"
   ]
  },
  {
   "cell_type": "markdown",
   "id": "f0326bbb",
   "metadata": {},
   "source": [
    "Cryptography is a technique of securing communication by converting plain text into ciphertext. It involves various algorithms and protocols to ensure data.\n",
    "\n",
    "In Cryptography, the techniques that are used to protect information are done by algorithms to convert messages in ways that make it hard to decode them"
   ]
  },
  {
   "cell_type": "markdown",
   "id": "526acf5a",
   "metadata": {},
   "source": [
    "There are mainly 3 types of Cryptography\n",
    "\n",
    "1)Symmetric Crytpography\n",
    "\n",
    "2)Asymmetric Crytpography\n",
    "\n",
    "3)Hashing"
   ]
  },
  {
   "cell_type": "code",
   "execution_count": null,
   "id": "01c9a362",
   "metadata": {},
   "outputs": [],
   "source": []
  },
  {
   "cell_type": "markdown",
   "id": "9a937205",
   "metadata": {},
   "source": [
    "# Symmetric Cryptography"
   ]
  },
  {
   "cell_type": "markdown",
   "id": "c785d46f",
   "metadata": {},
   "source": [
    "Symmetric Key cryptography is an encryption methodology where the sender and receiver uses a single common key to encrypt and decrypt messages.\n",
    "\n",
    "The most popular symmetric key cryptography systems are Data Encryption Systems (DES) and Advanced Encryption Systems (AES)."
   ]
  },
  {
   "cell_type": "code",
   "execution_count": 11,
   "id": "da1782de",
   "metadata": {
    "scrolled": true
   },
   "outputs": [
    {
     "name": "stdout",
     "output_type": "stream",
     "text": [
      "Generated Key: b'ykvSH-2cbvKO-jBIsyQh6dZQ3NGN5wSL2jG8nQHTiRc='\n"
     ]
    }
   ],
   "source": [
    "from cryptography.fernet import Fernet\n",
    "\n",
    "key=Fernet.generate_key()\n",
    "print(f\"Generated Key: {key}\")\n",
    "cipher_suite=Fernet(key)"
   ]
  },
  {
   "cell_type": "markdown",
   "id": "e62ca176",
   "metadata": {},
   "source": [
    "# Ceaser Cipher Implementation(Basic)"
   ]
  },
  {
   "cell_type": "code",
   "execution_count": 15,
   "id": "edb93bcb",
   "metadata": {},
   "outputs": [
    {
     "name": "stdout",
     "output_type": "stream",
     "text": [
      "Original message: This example is used to demonstrate cryptography module\n",
      "\n",
      "Encrypted message: b'gAAAAABmgtAHbtTUKBBwptwLuU2EKKiVRqM2EdX6WijrIItS4XWl9T7i_3I4jelkNi8Nm3oCw9CBVNj9zxCT9wUEyjboz9uv_RpJVy6q6dfmwrUNLrdcJ4hJKV7TGebeBqEsU6-uiXbMWMLWWJqh_Xm7P-gtccQsTg=='\n",
      "\n",
      "Decrypted message: This example is used to demonstrate cryptography module\n"
     ]
    }
   ],
   "source": [
    "message = \"This example is used to demonstrate cryptography module\"\n",
    "\n",
    "cipher_text = cipher_suite.encrypt(message.encode())\n",
    "\n",
    "plain_text = cipher_suite.decrypt(cipher_text)\n",
    "\n",
    "plain_text_str = plain_text.decode()\n",
    "\n",
    "print(f\"Original message: {message}\")\n",
    "print()\n",
    "print(f\"Encrypted message: {cipher_text}\")\n",
    "print()\n",
    "print(f\"Decrypted message: {plain_text_str}\")"
   ]
  },
  {
   "cell_type": "code",
   "execution_count": null,
   "id": "2235db45",
   "metadata": {},
   "outputs": [],
   "source": []
  },
  {
   "cell_type": "markdown",
   "id": "aea1db36",
   "metadata": {},
   "source": [
    "# Data Encryption Standard(DES)"
   ]
  },
  {
   "cell_type": "markdown",
   "id": "25c391c8",
   "metadata": {},
   "source": [
    "Data Encryption Standard (DES) is a block cipher with a 56-bit key length that has played a significant role in data security.DES is a block cipher which encrypts data in blocks of size of 64 bits each, where 64 bits of plain text go as the input to DES algorithm and produces 64 bits of ciphertext. The same algorithm and key(public) are used for encryption and decryption, with minor differences. "
   ]
  },
  {
   "cell_type": "code",
   "execution_count": 17,
   "id": "e9258351",
   "metadata": {},
   "outputs": [],
   "source": [
    "import pyDes\n",
    "import os"
   ]
  },
  {
   "cell_type": "code",
   "execution_count": 20,
   "id": "aade70a2",
   "metadata": {},
   "outputs": [
    {
     "name": "stdout",
     "output_type": "stream",
     "text": [
      "Generated Key:b'\\xa80\\xc4\\x03\\xc5\\xefd\\xee'\n",
      "Initalized Vector:b'\\x1b#\\xadM\\xd1\\xab\\xd5\\xe2'\n"
     ]
    }
   ],
   "source": [
    "key=os.urandom(8)\n",
    "iv=os.urandom(8)\n",
    "\n",
    "print(f\"Generated Key:{key}\")\n",
    "print(f\"Initalized Vector:{iv}\")"
   ]
  },
  {
   "cell_type": "code",
   "execution_count": 21,
   "id": "9ba8df17",
   "metadata": {},
   "outputs": [
    {
     "name": "stdout",
     "output_type": "stream",
     "text": [
      "Encrypted message:b'\\xb8|\\x14\\x9e\\x1b\\x1f\\xe1\\x18w\\xfb\\xd7\\xf0q\\xc6\\xe2VN\\xe5\\xfcrDf\\x92\\xaa\\xf9X\\xeb\\xd1\\x1b$\\x00l'\n",
      "Decrypted message:DES Algorithm Implementation\n"
     ]
    }
   ],
   "source": [
    "data = \"DES Algorithm Implementation\"\n",
    "\n",
    "k = pyDes.des(key, pyDes.CBC, iv, pad=None, padmode=pyDes.PAD_PKCS5)\n",
    "d = k.encrypt(data)\n",
    "\n",
    "print(f\"Encrypted message:{d}\")\n",
    "\n",
    "orig_text=k.decrypt(d)\n",
    "orig_text=orig_text.decode()\n",
    "\n",
    "print(f\"Decrypted message:{orig_text}\")"
   ]
  },
  {
   "cell_type": "markdown",
   "id": "bffb4f92",
   "metadata": {},
   "source": [
    "# Advanced Encryption Standard(AES)"
   ]
  },
  {
   "cell_type": "markdown",
   "id": "21a6f139",
   "metadata": {},
   "source": [
    "Advanced Encryption Standard (AES) is a Block Cipher and key size can be 128/192/256 bits which encrypts data in blocks of 128 bits each.That means it takes 128 bits as input and outputs 128 bits of encrypted cipher text.The same algorithm and key(public) are used for encryption and decryption, with minor differences"
   ]
  },
  {
   "cell_type": "code",
   "execution_count": 22,
   "id": "446d91cf",
   "metadata": {},
   "outputs": [],
   "source": [
    "from cryptography.hazmat.primitives.ciphers import Cipher, algorithms, modes\n",
    "from cryptography.hazmat.primitives import padding\n",
    "from cryptography.hazmat.backends import default_backend\n",
    "import os"
   ]
  },
  {
   "cell_type": "code",
   "execution_count": 23,
   "id": "b1a37314",
   "metadata": {},
   "outputs": [
    {
     "name": "stdout",
     "output_type": "stream",
     "text": [
      "Generated Key:b'\\x8a\\xdd\\xad\\x1cT\\xc9\\xc5\\x89\\x87\\xb3\\xe9/{\\x91\\xcf\\x8bP\\xbc\\xbcmJ{\\x89\\xaf\\x87vX\\x8c\\x0eF\\xcd\\xa6'\n",
      "Initalized Vector:b'\\x86[\\x84\\xf9<E9B\\xdd\\xcc\\x93x\\xbd\\xa4\\x9f\\x9c'\n"
     ]
    }
   ],
   "source": [
    "key=os.urandom(32)\n",
    "iv=os.urandom(16)\n",
    "\n",
    "print(f\"Generated Key:{key}\")\n",
    "print(f\"Initalized Vector:{iv}\")"
   ]
  },
  {
   "cell_type": "code",
   "execution_count": 24,
   "id": "3381dba1",
   "metadata": {},
   "outputs": [],
   "source": [
    "cipher=Cipher(algorithms.AES(key),modes.CBC(iv),backend=default_backend())"
   ]
  },
  {
   "cell_type": "code",
   "execution_count": 26,
   "id": "9533cab7",
   "metadata": {},
   "outputs": [
    {
     "name": "stdout",
     "output_type": "stream",
     "text": [
      "Encrypted Message:b'\\xa5\\xd6\\xd8\\xdfiw-\\xf3tWh\\xeb\\x0bC\\xc6\\xa7bQ\\x16w`\\x85\\x1c1R\\xf9\\x05\\xd9\\xdb\\xa1\\xe9\\x02'\n",
      "Decrypted Message:This is a test message.\n"
     ]
    }
   ],
   "source": [
    "message = \"This is a test message.\"\n",
    "\n",
    "#Encyption\n",
    "padder=padding.PKCS7(128).padder()\n",
    "padded_message = padder.update(message.encode()) + padder.finalize()\n",
    "\n",
    "encryptor = cipher.encryptor()\n",
    "cipher_text = encryptor.update(padded_message) + encryptor.finalize()\n",
    "\n",
    "print(f\"Encrypted Message:{cipher_text}\")\n",
    "\n",
    "#Decyption\n",
    "decryptor=cipher.decryptor()\n",
    "plain=decryptor.update(cipher_text)+decryptor.finalize()\n",
    "\n",
    "unpadder=padding.PKCS7(128).unpadder()\n",
    "unpadded_msg=unpadder.update(plain)+unpadder.finalize()\n",
    "\n",
    "decrypted=unpadded_msg.decode()\n",
    "\n",
    "print(f\"Decrypted Message:{decrypted}\")"
   ]
  },
  {
   "cell_type": "code",
   "execution_count": null,
   "id": "85798457",
   "metadata": {},
   "outputs": [],
   "source": []
  },
  {
   "cell_type": "markdown",
   "id": "2f23dfa3",
   "metadata": {},
   "source": [
    "# Asymetric Cryptography"
   ]
  },
  {
   "cell_type": "markdown",
   "id": "e117cf9c",
   "metadata": {},
   "source": [
    "In Asymmetric Key Cryptography, a pair of keys is used to encrypt and decrypt information. A receiver’s public key is used for encryption and a receiver’s private key is used for decryption. Public keys and Private keys are different. Even if the public key is known by everyone the intended receiver can only decode it because he alone knows his private key. \n",
    "\n",
    "The most popular asymmetric key cryptography algorithm is the RSA algorithm.  "
   ]
  },
  {
   "cell_type": "code",
   "execution_count": 18,
   "id": "efd1564c",
   "metadata": {},
   "outputs": [
    {
     "name": "stdout",
     "output_type": "stream",
     "text": [
      "Requirement already satisfied: pycryptodome in c:\\users\\bhema\\appdata\\roaming\\python\\python311\\site-packages (3.20.0)\n",
      "Note: you may need to restart the kernel to use updated packages.\n"
     ]
    }
   ],
   "source": [
    "pip install pycryptodome"
   ]
  },
  {
   "cell_type": "markdown",
   "id": "6aeb5f36",
   "metadata": {},
   "source": [
    "# Rivest-Shamir-Aldemann(RSA)"
   ]
  },
  {
   "cell_type": "markdown",
   "id": "2163a4a8",
   "metadata": {},
   "source": [
    "RSA algorithm is an asymmetric cryptography algorithm. Asymmetric actually means that it works on two different keys i.e. Public Key and Private Key. As the name describes that the Public Key is given to everyone and the Private key is kept private.\n",
    "\n",
    "RSA algorithm can be used for Digital Signatures, which means that a sender can sign a message using their private key, and the receiver can verify the signature using the sender’s public key.\n",
    "\n",
    "The idea of RSA is based on the fact that it is difficult to factorize a large integer. The public key consists of two numbers where one number is a multiplication of two large prime numbers. And private key is also derived from the same two prime numbers. So if somebody can factorize the large number, the private key is compromised. Therefore encryption strength totally lies on the key size and if we double or triple the key size, the strength of encryption increases exponentially. RSA keys can be typically 1024 or 2048 bits long, but experts believe that 1024-bit keys could be broken in the near future\n",
    "\n",
    "Implementation of RSA Algorithm using traditional mathematical calculation Methodology"
   ]
  },
  {
   "cell_type": "code",
   "execution_count": 27,
   "id": "872059fa",
   "metadata": {},
   "outputs": [],
   "source": [
    "import random,math"
   ]
  },
  {
   "cell_type": "code",
   "execution_count": 28,
   "id": "6240f2ac",
   "metadata": {},
   "outputs": [],
   "source": [
    "prime=set()\n",
    "\n",
    "public_key=None\n",
    "private_key=None\n",
    "n=None"
   ]
  },
  {
   "cell_type": "code",
   "execution_count": 30,
   "id": "591d971b",
   "metadata": {},
   "outputs": [],
   "source": [
    "def primefiller():\n",
    "    seive=[True]*250\n",
    "    seive[0]=False\n",
    "    seive[1]=False\n",
    "    for i in range(2,250):\n",
    "        for j in range(2*i,250,i):\n",
    "            seive[j]=False\n",
    "    \n",
    "    for i in range(len(seive)):\n",
    "        if seive[i]:\n",
    "            prime.add(i)\n",
    "\n",
    "def pickprime():\n",
    "    k=random.randint(0,len(prime)-1)\n",
    "    it = iter(prime)\n",
    "    for _ in range(k):\n",
    "        next(it)\n",
    " \n",
    "    ret = next(it)\n",
    "    prime.remove(ret)\n",
    "    return ret\n",
    "\n",
    "def keys():\n",
    "    p=pickprime()\n",
    "    q=pickprime()\n",
    "    \n",
    "    n=p*q\n",
    "    z=(p-1)*(q-1)\n",
    "    \n",
    "    e=2\n",
    "    \n",
    "    while True:\n",
    "        if math.gcd(e,z)==1:\n",
    "            break\n",
    "        e=e+1\n",
    "        \n",
    "    public_key=e\n",
    "    \n",
    "    d=2\n",
    "    \n",
    "    while True:\n",
    "        if (e*d) % z==1:\n",
    "            break\n",
    "        d=d+1\n",
    "            \n",
    "    private_key=d"
   ]
  },
  {
   "cell_type": "code",
   "execution_count": 31,
   "id": "227dace4",
   "metadata": {},
   "outputs": [],
   "source": [
    "def encrypt(msg):\n",
    "    global public_key, n\n",
    "    e=public_key\n",
    "    encrypt=1\n",
    "    while e>0:\n",
    "        encrypt*=msg\n",
    "        encrypt%=n\n",
    "        e-=1\n",
    "    return encrypt\n",
    "\n",
    "def decrypt(msg):\n",
    "    global private_key,n\n",
    "    d=private_key\n",
    "    decrypt=1\n",
    "    while d>0:\n",
    "        decrypt*=msg\n",
    "        decrypt%=n\n",
    "        d-=1\n",
    "    return decrypt"
   ]
  },
  {
   "cell_type": "code",
   "execution_count": 32,
   "id": "b34c6c99",
   "metadata": {},
   "outputs": [],
   "source": [
    "def encoded(msg):\n",
    "    encoded=[]\n",
    "    for i in msg:\n",
    "        encoded.append(encrypt(ord(i)))\n",
    "    \n",
    "    return encoded\n",
    "\n",
    "def decoded(msg):\n",
    "    s=''\n",
    "    for i in msg:\n",
    "       s+=chr(decrypt(i))\n",
    "    \n",
    "    return s"
   ]
  },
  {
   "cell_type": "code",
   "execution_count": 33,
   "id": "968f2556",
   "metadata": {},
   "outputs": [],
   "source": [
    "def main():\n",
    "    primefiller()\n",
    "    keys()\n",
    "    \n",
    "    msg=\"RSA Algorithm Implemenatation\"\n",
    "    encrypted=encoded(msg)\n",
    "    \n",
    "    print(\"Initial message:\")\n",
    "    print(msg)\n",
    "    print(\"\\n\\nThe encoded message(encrypted by public key)\\n\")\n",
    "    print(''.join(str(p) for p in encrypted))\n",
    "    print(\"\\n\\nThe decoded message(decrypted by public key)\\n\")\n",
    "    print(''.join(str(p) for p in decoder(encrypted)))"
   ]
  },
  {
   "cell_type": "code",
   "execution_count": null,
   "id": "d4165009",
   "metadata": {},
   "outputs": [],
   "source": []
  },
  {
   "cell_type": "markdown",
   "id": "433da006",
   "metadata": {},
   "source": [
    "Implementation of RSA Algorithm using librares provided by pycryptodome in python"
   ]
  },
  {
   "cell_type": "code",
   "execution_count": 35,
   "id": "3ac8c56d",
   "metadata": {},
   "outputs": [],
   "source": [
    "from cryptography.hazmat.primitives.asymmetric import rsa\n",
    "from cryptography.hazmat.primitives import serialization"
   ]
  },
  {
   "cell_type": "code",
   "execution_count": 36,
   "id": "8d84ad11",
   "metadata": {},
   "outputs": [
    {
     "data": {
      "text/plain": [
       "b'-----BEGIN PUBLIC KEY-----'"
      ]
     },
     "execution_count": 36,
     "metadata": {},
     "output_type": "execute_result"
    }
   ],
   "source": [
    "#Key Generation\n",
    "\n",
    "private_key = rsa.generate_private_key(\n",
    "    public_exponent=65537,\n",
    "    key_size=2048,\n",
    ")\n",
    "\n",
    "public_key=private_key.public_key()\n",
    "\n",
    "#Key Serialization\n",
    "pem = private_key.private_bytes(\n",
    "   encoding=serialization.Encoding.PEM,\n",
    "   format=serialization.PrivateFormat.PKCS8,\n",
    "   encryption_algorithm=serialization.BestAvailableEncryption(b'mypassword')\n",
    ")\n",
    "pem.splitlines()[0]\n",
    "\n",
    "pem = public_key.public_bytes(\n",
    "   encoding=serialization.Encoding.PEM,\n",
    "   format=serialization.PublicFormat.SubjectPublicKeyInfo\n",
    ")\n",
    "pem.splitlines()[0]\n"
   ]
  },
  {
   "cell_type": "code",
   "execution_count": 37,
   "id": "22e26e46",
   "metadata": {},
   "outputs": [
    {
     "data": {
      "text/plain": [
       "('RSA Algorithm Implementation',\n",
       " <cryptography.hazmat.primitives.asymmetric.padding.PSS at 0x2799dcd2c90>,\n",
       " <cryptography.hazmat.primitives.hashes.SHA256 at 0x2799dcd3c10>)"
      ]
     },
     "execution_count": 37,
     "metadata": {},
     "output_type": "execute_result"
    }
   ],
   "source": [
    "#Signing\n",
    "\n",
    "from cryptography.hazmat.primitives import hashes\n",
    "from cryptography.hazmat.primitives.asymmetric import padding\n",
    "\n",
    "msg=\"RSA Algorithm Implementation\"\n",
    "signature=private_key.sign\n",
    "(\n",
    "    msg,\n",
    "    padding.PSS\n",
    "    (\n",
    "        mgf=padding.MGF1(hashes.SHA256()),\n",
    "        salt_length=padding.PSS.MAX_LENGTH,\n",
    "    ),\n",
    "    hashes.SHA256()\n",
    ")"
   ]
  },
  {
   "cell_type": "code",
   "execution_count": 39,
   "id": "d4510d27",
   "metadata": {},
   "outputs": [
    {
     "data": {
      "text/plain": [
       "(<function RSAPrivateKey.sign(data, padding, algorithm)>,\n",
       " 'RSA Algorithm Implementation',\n",
       " <cryptography.hazmat.primitives.asymmetric.padding.PSS at 0x2799dd55ad0>,\n",
       " <cryptography.hazmat.primitives.hashes.SHA256 at 0x2799dd55990>)"
      ]
     },
     "execution_count": 39,
     "metadata": {},
     "output_type": "execute_result"
    }
   ],
   "source": [
    "#Verification\n",
    "\n",
    "public_key.verify\n",
    "(\n",
    "    signature,msg,\n",
    "    padding.PSS\n",
    "    (\n",
    "        mgf=padding.MGF1(hashes.SHA256()),\n",
    "        salt_length=padding.PSS.MAX_LENGTH,\n",
    "    ),\n",
    "    hashes.SHA256()\n",
    ")"
   ]
  },
  {
   "cell_type": "code",
   "execution_count": 40,
   "id": "4c4f76d6",
   "metadata": {},
   "outputs": [
    {
     "name": "stdout",
     "output_type": "stream",
     "text": [
      "<built-in method encrypt of cryptography.hazmat.bindings._rust.openssl.rsa.RSAPublicKey object at 0x000002799DC41CB0>\n"
     ]
    }
   ],
   "source": [
    "#Encryption\n",
    "\n",
    "cipher_text=public_key.encrypt\n",
    "(\n",
    "    msg,\n",
    "    padding.OAEP\n",
    "    (\n",
    "        mgf=padding.MGF1(algorithm=hashes.SHA256()),\n",
    "        algorithm=hashes.SHA256(),\n",
    "        label=None\n",
    "    )\n",
    ")\n",
    "\n",
    "print(cipher_text)"
   ]
  },
  {
   "cell_type": "code",
   "execution_count": 41,
   "id": "6e0d4929",
   "metadata": {},
   "outputs": [
    {
     "name": "stdout",
     "output_type": "stream",
     "text": [
      "<built-in method decrypt of cryptography.hazmat.bindings._rust.openssl.rsa.RSAPrivateKey object at 0x000002799DC41C70>\n"
     ]
    }
   ],
   "source": [
    "#Decryption\n",
    "\n",
    "plain_text=private_key.decrypt\n",
    "(\n",
    "    cipher_text,\n",
    "    padding.OAEP\n",
    "    (\n",
    "        mgf=padding.MGF1(algorithm=hashes.SHA256()),\n",
    "        algorithm=hashes.SHA256(),\n",
    "        label=None\n",
    "    )\n",
    ")\n",
    "print(plain_text)"
   ]
  },
  {
   "cell_type": "markdown",
   "id": "01b97b5f",
   "metadata": {},
   "source": [
    "# Digital Signature Algorithm(DSA)"
   ]
  },
  {
   "cell_type": "markdown",
   "id": "92c9eb6f",
   "metadata": {},
   "source": [
    "Digital Signature Algorithm(DSA) is a cryptographic algorithm used to generate digital signatures, authenticate the sender of a digital message, and prevent message tampering. \n",
    "\n",
    "DSA works by having two keys: a private key owned by the sender and a public key held by the receiver which means that a sender can sign a message using their private key, and the receiver can verify the signature using the sender’s public key."
   ]
  },
  {
   "cell_type": "markdown",
   "id": "8c93eedd",
   "metadata": {},
   "source": [
    "Implementation of DSA Algorithm using librares provided by pycryptodome in python"
   ]
  },
  {
   "cell_type": "code",
   "execution_count": 47,
   "id": "a1202394",
   "metadata": {},
   "outputs": [
    {
     "name": "stdout",
     "output_type": "stream",
     "text": [
      "Generated Private Key:<cryptography.hazmat.bindings._rust.openssl.dsa.DSAPrivateKey object at 0x000002799DC43D50>\n",
      "\n",
      "Generated Public Key:<cryptography.hazmat.bindings._rust.openssl.dsa.DSAPublicKey object at 0x000002799DC41DB0>\n",
      "\n",
      "Signature:b'0,\\x02\\x14iJm:f\\xda\\xb4\\x98\\x11\\xc27\\x1a\\x924\\x07z\\x96\\x17\\x02\\xb2\\x02\\x14\\x17\\xa0\\xa4\\x89\\x92\\xb8N\\xe0y\\xf7N*B\\xb4\\xffd5\\r\\xc76'\n",
      "\n",
      "Signature is valid.\n"
     ]
    }
   ],
   "source": [
    "from cryptography.hazmat.primitives.asymmetric import dsa\n",
    "from cryptography.hazmat.primitives import hashes\n",
    "\n",
    "#Key Generation\n",
    "private_key = dsa.generate_private_key(key_size=1024)\n",
    "\n",
    "public_key = private_key.public_key()\n",
    "\n",
    "print(f\"Generated Private Key:{private_key}\")\n",
    "print()\n",
    "print(f\"Generated Public Key:{public_key}\")\n",
    "print()\n",
    "\n",
    "#Data is small enough to send at a time\n",
    "data = b\"DSA Implementation Algo\"\n",
    "\n",
    "#Signature\n",
    "signature = private_key.sign(\n",
    "    data,\n",
    "    hashes.SHA256()\n",
    ")\n",
    "\n",
    "print(f\"Signature:{signature}\")\n",
    "print()\n",
    "\n",
    "#Verification\n",
    "try:\n",
    "    public_key.verify(\n",
    "        signature,\n",
    "        data,\n",
    "        hashes.SHA256()\n",
    "    )\n",
    "    print(\"Signature is valid.\")\n",
    "except cryptography.exceptions.InvalidSignature:\n",
    "    print(\"Signature is invalid.\")\n"
   ]
  },
  {
   "cell_type": "code",
   "execution_count": null,
   "id": "52a51d56",
   "metadata": {},
   "outputs": [],
   "source": [
    "# if Data is too large in single call then we need to divide it into chucks and send them\n",
    "\n",
    "from cryptography.hazmat.primitives.asymmetric import utils\n",
    "\n",
    "chosen_hash=hashes.SHA256()\n",
    "hasher=hashes.Hash(chosen_hash)\n",
    "hasher.update(\"hi\")\n",
    "hasher.update(\"nhyfya\")\n",
    "final=hasher.finalize()\n",
    "\n",
    "signature=private_key.sign(final,Prehashed(chosen_hash))"
   ]
  },
  {
   "cell_type": "code",
   "execution_count": null,
   "id": "bf2329fd",
   "metadata": {},
   "outputs": [],
   "source": []
  },
  {
   "cell_type": "markdown",
   "id": "1eb3b7cb",
   "metadata": {},
   "source": [
    "Implementation of RSA Algorithm using traditional mathematical calculation Methodology"
   ]
  },
  {
   "cell_type": "code",
   "execution_count": null,
   "id": "6cfc59c8",
   "metadata": {},
   "outputs": [],
   "source": [
    "import os\n",
    "import random\n",
    "from hashlib import sha256"
   ]
  },
  {
   "cell_type": "code",
   "execution_count": null,
   "id": "f7ba5f95",
   "metadata": {},
   "outputs": [],
   "source": [
    "def modinv(a, q):\n",
    "    t, new_t = 0, 1\n",
    "    r, new_r = q, a\n",
    "    while new_r != 0:\n",
    "        quotient = r // new_r\n",
    "        t, new_t = new_t, t - quotient * new_t\n",
    "        r, new_r = new_r, r - quotient * new_r\n",
    "    if r > 1:\n",
    "        raise ValueError(\"No modular inverse exists\")\n",
    "    if t < 0:\n",
    "        t += q\n",
    "    return t"
   ]
  },
  {
   "cell_type": "code",
   "execution_count": null,
   "id": "e02f0d05",
   "metadata": {},
   "outputs": [],
   "source": [
    "#Algorithm parameters and Keys Generation\n",
    "\n",
    "q=os.urandom(8)\n",
    "\n",
    "p=1\n",
    "\n",
    "while True:\n",
    "    if (p-1)%q==0:\n",
    "        break;\n",
    "    p+=1\n",
    "\n",
    "h=2\n",
    "\n",
    "while True:\n",
    "    g=pow(h,(p-1))/(q%p)\n",
    "    if g!=1:\n",
    "        break;\n",
    "    h+=1\n",
    "    \n",
    "\n",
    "h = int(sha256(b\"message\").hexdigest(), 16)\n",
    "\n",
    "x = random.randint(1,q-1) \n",
    "y = pow(g,x,p) \n",
    "\n",
    "print(q)"
   ]
  },
  {
   "cell_type": "code",
   "execution_count": null,
   "id": "72ceece0",
   "metadata": {},
   "outputs": [],
   "source": [
    "#Signature Signing Function\n",
    "\n",
    "k=random.randint(0,q)\n",
    "\n",
    "r=(pow(g,k)%p)%q\n",
    "\n",
    "s=pow(k,-1)*(h+x*r)%q\n",
    "\n",
    "print(k,r,s)"
   ]
  },
  {
   "cell_type": "code",
   "execution_count": null,
   "id": "64dfd530",
   "metadata": {},
   "outputs": [],
   "source": [
    "#Signature Verification Function\n",
    "\n",
    "w = modinv(s, q)\n",
    "u1=(h*w)%q\n",
    "u2=(r*w)%q\n",
    "\n",
    "v=((pow(g,u1)*pow(y,u2))%p)%q\n",
    "\n",
    "print(w,u1,u2,v)"
   ]
  },
  {
   "cell_type": "code",
   "execution_count": null,
   "id": "2b6a89c1",
   "metadata": {},
   "outputs": [],
   "source": [
    "if(v==r):print(\"signature verification successful\")"
   ]
  },
  {
   "cell_type": "code",
   "execution_count": null,
   "id": "76546995",
   "metadata": {},
   "outputs": [],
   "source": []
  },
  {
   "cell_type": "markdown",
   "id": "6b0df45c",
   "metadata": {},
   "source": [
    "# Diffie-Hellman Key Exchange"
   ]
  },
  {
   "cell_type": "markdown",
   "id": "e525720b",
   "metadata": {},
   "source": [
    "Diffie-Hellman key exchange is a method of digital encryption that securely exchanges cryptographic keys between two parties over a public channel without their conversation being transmitted over the internet. The two parties use symmetric cryptography to encrypt and decrypt their messages"
   ]
  },
  {
   "cell_type": "code",
   "execution_count": 48,
   "id": "fedb052a",
   "metadata": {},
   "outputs": [],
   "source": [
    "from cryptography.hazmat.primitives import hashes\n",
    "from cryptography.hazmat.primitives.asymmetric import dh\n",
    "from cryptography.hazmat.primitives.kdf.hkdf import HKDF"
   ]
  },
  {
   "cell_type": "code",
   "execution_count": 49,
   "id": "d378af0d",
   "metadata": {},
   "outputs": [
    {
     "data": {
      "text/plain": [
       "True"
      ]
     },
     "execution_count": 49,
     "metadata": {},
     "output_type": "execute_result"
    }
   ],
   "source": [
    "parameters = dh.generate_parameters(generator=2, key_size=2048)\n",
    "\n",
    "server_private_key = parameters.generate_private_key()\n",
    "peer_private_key = parameters.generate_private_key()\n",
    "\n",
    "shared_key = server_private_key.exchange(peer_private_key.public_key())\n",
    "\n",
    "# Perform key derivation.\n",
    "derived_key=HKDF(\n",
    "    algorithm=hashes.SHA256(),\n",
    "    length=32,\n",
    "    salt=None,\n",
    "    info=b'handshake data',\n",
    ").derive(shared_key)\n",
    "\n",
    "same_shared_key = peer_private_key.exchange(server_private_key.public_key())\n",
    "\n",
    "same_derived_key = HKDF(\n",
    "    algorithm=hashes.SHA256(),\n",
    "    length=32,\n",
    "    salt=None,\n",
    "    info=b'handshake data',\n",
    ").derive(same_shared_key)\n",
    "\n",
    "\n",
    "derived_key == same_derived_key"
   ]
  },
  {
   "cell_type": "code",
   "execution_count": null,
   "id": "e47582c8",
   "metadata": {},
   "outputs": [],
   "source": []
  },
  {
   "cell_type": "markdown",
   "id": "cbc12000",
   "metadata": {},
   "source": [
    "# Hashing"
   ]
  },
  {
   "cell_type": "markdown",
   "id": "48ca8260",
   "metadata": {},
   "source": [
    "A Hashing function in cryptography is like a mathematical function that takes various inputs, like messages or data, and transforms them into fixed-length strings of characters. Means the input to the hash function is of any length but output is always of fixed length"
   ]
  },
  {
   "cell_type": "code",
   "execution_count": 51,
   "id": "8039badf",
   "metadata": {},
   "outputs": [
    {
     "name": "stdout",
     "output_type": "stream",
     "text": [
      "Please enter a password: 12qw3e\n",
      "The string to store in the db is: 2379191bc5f6e57465399e92914324934b1750004a1a2718d62de2e99376ece9:8ddc202c2eb04e1ea9e2dcc28c161278\n",
      "Now please enter the password again to check: 12w3eq\n",
      "Passwords do not match\n"
     ]
    }
   ],
   "source": [
    "import uuid\n",
    "import hashlib\n",
    "\n",
    "def hash_password(password):\n",
    "   salt = uuid.uuid4().hex\n",
    "   return hashlib.sha256(salt.encode() + password.encode()).hexdigest() + ':' + salt\n",
    "\n",
    "def check_password(hashed_password, user_password):\n",
    "   password, salt = hashed_password.split(':')\n",
    "   return password == hashlib.sha256(salt.encode() + user_password.encode()).hexdigest()\n",
    "\n",
    "new_pass = input('Please enter a password: ')\n",
    "hashed_password = hash_password(new_pass)\n",
    "print('The string to store in the db is: ' + hashed_password)\n",
    "old_pass = input('Now please enter the password again to check: ')\n",
    "\n",
    "if check_password(hashed_password, old_pass):\n",
    "   print('You entered the right password')\n",
    "else:\n",
    "   print('Passwords do not match')"
   ]
  },
  {
   "cell_type": "code",
   "execution_count": null,
   "id": "8117b9c9",
   "metadata": {},
   "outputs": [],
   "source": []
  }
 ],
 "metadata": {
  "kernelspec": {
   "display_name": "Python 3 (ipykernel)",
   "language": "python",
   "name": "python3"
  },
  "language_info": {
   "codemirror_mode": {
    "name": "ipython",
    "version": 3
   },
   "file_extension": ".py",
   "mimetype": "text/x-python",
   "name": "python",
   "nbconvert_exporter": "python",
   "pygments_lexer": "ipython3",
   "version": "3.11.3"
  }
 },
 "nbformat": 4,
 "nbformat_minor": 5
}
